{
 "cells": [
  {
   "cell_type": "code",
   "execution_count": 1,
   "id": "e16b98f1-dd01-4dbf-ad05-6114663002fe",
   "metadata": {
    "id": "e16b98f1-dd01-4dbf-ad05-6114663002fe"
   },
   "outputs": [],
   "source": [
    "import pandas as pd\n",
    "from sklearn.feature_extraction.text import TfidfVectorizer\n",
    "from sklearn.metrics.pairwise import cosine_similarity\n",
    "import matplotlib.pyplot as plt"
   ]
  },
  {
   "cell_type": "markdown",
   "id": "EJ30MEx1-vd1",
   "metadata": {
    "id": "EJ30MEx1-vd1"
   },
   "source": [
    "This e-commerce dataset includes user interactions with products, featuring columns for UserID, ProductID, Rating, and Timestamp, capturing user preferences and activity over time. Additionally, it contains Product Description, providing textual details about each product for content-based analysis."
   ]
  },
  {
   "cell_type": "code",
   "execution_count": 2,
   "id": "c35c9b4a-f913-4d9b-87bf-b63aadb48ee2",
   "metadata": {
    "colab": {
     "base_uri": "https://localhost:8080/",
     "height": 206
    },
    "id": "c35c9b4a-f913-4d9b-87bf-b63aadb48ee2",
    "outputId": "e98287f3-94f6-4ad0-bbf8-d81f735aa6f5"
   },
   "outputs": [
    {
     "data": {
      "text/html": [
       "<div>\n",
       "<style scoped>\n",
       "    .dataframe tbody tr th:only-of-type {\n",
       "        vertical-align: middle;\n",
       "    }\n",
       "\n",
       "    .dataframe tbody tr th {\n",
       "        vertical-align: top;\n",
       "    }\n",
       "\n",
       "    .dataframe thead th {\n",
       "        text-align: right;\n",
       "    }\n",
       "</style>\n",
       "<table border=\"1\" class=\"dataframe\">\n",
       "  <thead>\n",
       "    <tr style=\"text-align: right;\">\n",
       "      <th></th>\n",
       "      <th>UserId</th>\n",
       "      <th>ProductId</th>\n",
       "      <th>Rating</th>\n",
       "      <th>Timestamp</th>\n",
       "      <th>product_description</th>\n",
       "    </tr>\n",
       "  </thead>\n",
       "  <tbody>\n",
       "    <tr>\n",
       "      <th>0</th>\n",
       "      <td>A39HTATAQ9V7YF</td>\n",
       "      <td>205616461</td>\n",
       "      <td>5</td>\n",
       "      <td>1369699200</td>\n",
       "      <td>Not only do angles make joints stronger, they ...</td>\n",
       "    </tr>\n",
       "    <tr>\n",
       "      <th>1</th>\n",
       "      <td>A3JM6GV9MNOF9X</td>\n",
       "      <td>558925278</td>\n",
       "      <td>3</td>\n",
       "      <td>1355443200</td>\n",
       "      <td>BEHR Premium Textured DECKOVER is an innovativ...</td>\n",
       "    </tr>\n",
       "    <tr>\n",
       "      <th>2</th>\n",
       "      <td>A1Z513UWSAAO0F</td>\n",
       "      <td>558925278</td>\n",
       "      <td>5</td>\n",
       "      <td>1404691200</td>\n",
       "      <td>Classic architecture meets contemporary design...</td>\n",
       "    </tr>\n",
       "    <tr>\n",
       "      <th>3</th>\n",
       "      <td>A1WMRR494NWEWV</td>\n",
       "      <td>733001998</td>\n",
       "      <td>4</td>\n",
       "      <td>1382572800</td>\n",
       "      <td>The Grape Solar 265-Watt Polycrystalline PV So...</td>\n",
       "    </tr>\n",
       "    <tr>\n",
       "      <th>4</th>\n",
       "      <td>A3IAAVS479H7M7</td>\n",
       "      <td>737104473</td>\n",
       "      <td>1</td>\n",
       "      <td>1274227200</td>\n",
       "      <td>Update your bathroom with the Delta Vero Singl...</td>\n",
       "    </tr>\n",
       "  </tbody>\n",
       "</table>\n",
       "</div>"
      ],
      "text/plain": [
       "           UserId  ProductId  Rating   Timestamp  \\\n",
       "0  A39HTATAQ9V7YF  205616461       5  1369699200   \n",
       "1  A3JM6GV9MNOF9X  558925278       3  1355443200   \n",
       "2  A1Z513UWSAAO0F  558925278       5  1404691200   \n",
       "3  A1WMRR494NWEWV  733001998       4  1382572800   \n",
       "4  A3IAAVS479H7M7  737104473       1  1274227200   \n",
       "\n",
       "                                 product_description  \n",
       "0  Not only do angles make joints stronger, they ...  \n",
       "1  BEHR Premium Textured DECKOVER is an innovativ...  \n",
       "2  Classic architecture meets contemporary design...  \n",
       "3  The Grape Solar 265-Watt Polycrystalline PV So...  \n",
       "4  Update your bathroom with the Delta Vero Singl...  "
      ]
     },
     "execution_count": 2,
     "metadata": {},
     "output_type": "execute_result"
    }
   ],
   "source": [
    "df = pd.read_excel('Ecommerce.xlsx')\n",
    "df.head()"
   ]
  },
  {
   "cell_type": "code",
   "execution_count": 3,
   "id": "0c58daf6-d052-4d13-b754-02c156827533",
   "metadata": {
    "colab": {
     "base_uri": "https://localhost:8080/",
     "height": 206
    },
    "id": "0c58daf6-d052-4d13-b754-02c156827533",
    "outputId": "c4241c41-3fc4-4550-a2e1-2a98e90f742a"
   },
   "outputs": [
    {
     "data": {
      "text/html": [
       "<div>\n",
       "<style scoped>\n",
       "    .dataframe tbody tr th:only-of-type {\n",
       "        vertical-align: middle;\n",
       "    }\n",
       "\n",
       "    .dataframe tbody tr th {\n",
       "        vertical-align: top;\n",
       "    }\n",
       "\n",
       "    .dataframe thead th {\n",
       "        text-align: right;\n",
       "    }\n",
       "</style>\n",
       "<table border=\"1\" class=\"dataframe\">\n",
       "  <thead>\n",
       "    <tr style=\"text-align: right;\">\n",
       "      <th></th>\n",
       "      <th>UserId</th>\n",
       "      <th>ProductId</th>\n",
       "      <th>Rating</th>\n",
       "      <th>Timestamp</th>\n",
       "      <th>product_description</th>\n",
       "    </tr>\n",
       "  </thead>\n",
       "  <tbody>\n",
       "    <tr>\n",
       "      <th>0</th>\n",
       "      <td>A39HTATAQ9V7YF</td>\n",
       "      <td>205616461</td>\n",
       "      <td>5</td>\n",
       "      <td>1970-01-16 20:28:19.200</td>\n",
       "      <td>Not only do angles make joints stronger, they ...</td>\n",
       "    </tr>\n",
       "    <tr>\n",
       "      <th>1</th>\n",
       "      <td>A3JM6GV9MNOF9X</td>\n",
       "      <td>558925278</td>\n",
       "      <td>3</td>\n",
       "      <td>1970-01-16 16:30:43.200</td>\n",
       "      <td>BEHR Premium Textured DECKOVER is an innovativ...</td>\n",
       "    </tr>\n",
       "    <tr>\n",
       "      <th>2</th>\n",
       "      <td>A1Z513UWSAAO0F</td>\n",
       "      <td>558925278</td>\n",
       "      <td>5</td>\n",
       "      <td>1970-01-17 06:11:31.200</td>\n",
       "      <td>Classic architecture meets contemporary design...</td>\n",
       "    </tr>\n",
       "    <tr>\n",
       "      <th>3</th>\n",
       "      <td>A1WMRR494NWEWV</td>\n",
       "      <td>733001998</td>\n",
       "      <td>4</td>\n",
       "      <td>1970-01-17 00:02:52.800</td>\n",
       "      <td>The Grape Solar 265-Watt Polycrystalline PV So...</td>\n",
       "    </tr>\n",
       "    <tr>\n",
       "      <th>4</th>\n",
       "      <td>A3IAAVS479H7M7</td>\n",
       "      <td>737104473</td>\n",
       "      <td>1</td>\n",
       "      <td>1970-01-15 17:57:07.200</td>\n",
       "      <td>Update your bathroom with the Delta Vero Singl...</td>\n",
       "    </tr>\n",
       "  </tbody>\n",
       "</table>\n",
       "</div>"
      ],
      "text/plain": [
       "           UserId  ProductId  Rating               Timestamp  \\\n",
       "0  A39HTATAQ9V7YF  205616461       5 1970-01-16 20:28:19.200   \n",
       "1  A3JM6GV9MNOF9X  558925278       3 1970-01-16 16:30:43.200   \n",
       "2  A1Z513UWSAAO0F  558925278       5 1970-01-17 06:11:31.200   \n",
       "3  A1WMRR494NWEWV  733001998       4 1970-01-17 00:02:52.800   \n",
       "4  A3IAAVS479H7M7  737104473       1 1970-01-15 17:57:07.200   \n",
       "\n",
       "                                 product_description  \n",
       "0  Not only do angles make joints stronger, they ...  \n",
       "1  BEHR Premium Textured DECKOVER is an innovativ...  \n",
       "2  Classic architecture meets contemporary design...  \n",
       "3  The Grape Solar 265-Watt Polycrystalline PV So...  \n",
       "4  Update your bathroom with the Delta Vero Singl...  "
      ]
     },
     "execution_count": 3,
     "metadata": {},
     "output_type": "execute_result"
    }
   ],
   "source": [
    "df['Timestamp'] = pd.to_datetime(df['Timestamp'] ,unit='ms')\n",
    "df.head()"
   ]
  },
  {
   "cell_type": "code",
   "execution_count": 4,
   "id": "a50c589e-e3ce-465f-853b-0990b525a73c",
   "metadata": {
    "colab": {
     "base_uri": "https://localhost:8080/"
    },
    "id": "a50c589e-e3ce-465f-853b-0990b525a73c",
    "outputId": "40e6fa85-f76b-499d-e674-35de596a410e"
   },
   "outputs": [
    {
     "data": {
      "text/plain": [
       "(29452, 5)"
      ]
     },
     "execution_count": 4,
     "metadata": {},
     "output_type": "execute_result"
    }
   ],
   "source": [
    "df.shape"
   ]
  },
  {
   "cell_type": "code",
   "execution_count": 5,
   "id": "293ad384-ae54-48b4-a6fa-3dad0b311772",
   "metadata": {
    "colab": {
     "base_uri": "https://localhost:8080/"
    },
    "id": "293ad384-ae54-48b4-a6fa-3dad0b311772",
    "outputId": "39df5336-709c-4973-c4b9-fc2b776434b8"
   },
   "outputs": [
    {
     "name": "stdout",
     "output_type": "stream",
     "text": [
      "<class 'pandas.core.frame.DataFrame'>\n",
      "RangeIndex: 29452 entries, 0 to 29451\n",
      "Data columns (total 5 columns):\n",
      " #   Column               Non-Null Count  Dtype         \n",
      "---  ------               --------------  -----         \n",
      " 0   UserId               29452 non-null  object        \n",
      " 1   ProductId            29452 non-null  object        \n",
      " 2   Rating               29452 non-null  int64         \n",
      " 3   Timestamp            29452 non-null  datetime64[ns]\n",
      " 4   product_description  29452 non-null  object        \n",
      "dtypes: datetime64[ns](1), int64(1), object(3)\n",
      "memory usage: 1.1+ MB\n"
     ]
    }
   ],
   "source": [
    "df.info()"
   ]
  },
  {
   "cell_type": "code",
   "execution_count": 6,
   "id": "22e0e083-ce6d-40f0-8604-119a4e23bd99",
   "metadata": {
    "colab": {
     "base_uri": "https://localhost:8080/",
     "height": 241
    },
    "id": "22e0e083-ce6d-40f0-8604-119a4e23bd99",
    "outputId": "5ff7c1c2-718e-4c9a-8281-57a96bb2bc66"
   },
   "outputs": [
    {
     "data": {
      "text/plain": [
       "UserId                 0\n",
       "ProductId              0\n",
       "Rating                 0\n",
       "Timestamp              0\n",
       "product_description    0\n",
       "dtype: int64"
      ]
     },
     "execution_count": 6,
     "metadata": {},
     "output_type": "execute_result"
    }
   ],
   "source": [
    "df.isnull().sum()"
   ]
  },
  {
   "cell_type": "code",
   "execution_count": 7,
   "id": "902e669f-41d4-499c-b247-02ccf8d0085b",
   "metadata": {
    "colab": {
     "base_uri": "https://localhost:8080/"
    },
    "id": "902e669f-41d4-499c-b247-02ccf8d0085b",
    "outputId": "27293b77-ccab-446d-bb1c-a2961b6135ce"
   },
   "outputs": [
    {
     "data": {
      "text/plain": [
       "0"
      ]
     },
     "execution_count": 7,
     "metadata": {},
     "output_type": "execute_result"
    }
   ],
   "source": [
    "df.duplicated().sum()"
   ]
  },
  {
   "cell_type": "markdown",
   "id": "riGvpTQY9E7A",
   "metadata": {
    "id": "riGvpTQY9E7A"
   },
   "source": [
    "**Content-Based Filtering:**\n",
    "\n",
    "A content-based recommendation engine looks at product descriptions to find items with similar features. It recommends products that match what the user likes based on their past choices.\n",
    "\n",
    "\n",
    "\n",
    "\n",
    "\n",
    "\n",
    "\n"
   ]
  },
  {
   "cell_type": "code",
   "execution_count": 8,
   "id": "186156bf-2c1d-4621-bbf6-9b6ccbbac6b2",
   "metadata": {
    "id": "186156bf-2c1d-4621-bbf6-9b6ccbbac6b2"
   },
   "outputs": [],
   "source": [
    "vectorizer = TfidfVectorizer(stop_words='english')\n",
    "tfidf_matrix = vectorizer.fit_transform(df['product_description'])"
   ]
  },
  {
   "cell_type": "code",
   "execution_count": 9,
   "id": "722b7095-e975-4f56-ae1c-519766f1b778",
   "metadata": {
    "id": "722b7095-e975-4f56-ae1c-519766f1b778"
   },
   "outputs": [],
   "source": [
    "Similarity =  cosine_similarity(tfidf_matrix, tfidf_matrix)"
   ]
  },
  {
   "cell_type": "code",
   "execution_count": 10,
   "id": "7baec6d8-9833-4ded-a0f6-a938f95f71bc",
   "metadata": {
    "id": "7baec6d8-9833-4ded-a0f6-a938f95f71bc"
   },
   "outputs": [],
   "source": [
    "def recommend_products(ProductId, Similarity, df,top_n):\n",
    "    idx = df[df['ProductId'] == ProductId].index[0]\n",
    "    sim_scores = list(enumerate(Similarity[idx]))\n",
    "    sim_scores = sorted(sim_scores,key=lambda x: x[1], reverse=True)\n",
    "    sim_scores = sim_scores[1:top_n+1]\n",
    "    recommended = [df.iloc[i[0]]['ProductId'] for i in sim_scores]\n",
    "    return recommended"
   ]
  },
  {
   "cell_type": "code",
   "execution_count": 11,
   "id": "fb3c8ae1-d0ce-4be1-80fc-48d184ff0973",
   "metadata": {
    "id": "fb3c8ae1-d0ce-4be1-80fc-48d184ff0973"
   },
   "outputs": [
    {
     "name": "stdout",
     "output_type": "stream",
     "text": [
      "Product ID B000068U49\n",
      "recommended products : ['B00004U9V2', 'B00005TP3U', 'B00005IBW0']\n"
     ]
    }
   ],
   "source": [
    "random_productID = df['ProductId'].sample(n=1).iloc[0]\n",
    "print('Product ID',random_productID)\n",
    "recommended = recommend_products(random_productID,Similarity, df,3)\n",
    "print('recommended products :', recommended)"
   ]
  },
  {
   "cell_type": "markdown",
   "id": "-khu9YdE91tq",
   "metadata": {
    "id": "-khu9YdE91tq"
   },
   "source": [
    "**Collaborative Filtering:**\n",
    "\n",
    "A collaborative filtering recommendation engine suggests products based on customer ratings. It identifies patterns in user preferences and recommends items liked by similar users."
   ]
  },
  {
   "cell_type": "code",
   "execution_count": 12,
   "id": "2c72d3c0-594c-4cbd-bb06-42b0b6418f36",
   "metadata": {
    "id": "2c72d3c0-594c-4cbd-bb06-42b0b6418f36"
   },
   "outputs": [
    {
     "data": {
      "text/html": [
       "<div>\n",
       "<style scoped>\n",
       "    .dataframe tbody tr th:only-of-type {\n",
       "        vertical-align: middle;\n",
       "    }\n",
       "\n",
       "    .dataframe tbody tr th {\n",
       "        vertical-align: top;\n",
       "    }\n",
       "\n",
       "    .dataframe thead th {\n",
       "        text-align: right;\n",
       "    }\n",
       "</style>\n",
       "<table border=\"1\" class=\"dataframe\">\n",
       "  <thead>\n",
       "    <tr style=\"text-align: right;\">\n",
       "      <th></th>\n",
       "      <th>mean</th>\n",
       "      <th>count</th>\n",
       "    </tr>\n",
       "    <tr>\n",
       "      <th>ProductId</th>\n",
       "      <th></th>\n",
       "      <th></th>\n",
       "    </tr>\n",
       "  </thead>\n",
       "  <tbody>\n",
       "    <tr>\n",
       "      <th>B00006IV2F</th>\n",
       "      <td>4.343750</td>\n",
       "      <td>704</td>\n",
       "    </tr>\n",
       "    <tr>\n",
       "      <th>B0000632EN</th>\n",
       "      <td>3.978134</td>\n",
       "      <td>686</td>\n",
       "    </tr>\n",
       "    <tr>\n",
       "      <th>B00005O0MZ</th>\n",
       "      <td>4.082051</td>\n",
       "      <td>585</td>\n",
       "    </tr>\n",
       "    <tr>\n",
       "      <th>B0000530ED</th>\n",
       "      <td>3.522260</td>\n",
       "      <td>584</td>\n",
       "    </tr>\n",
       "    <tr>\n",
       "      <th>B00004TUBL</th>\n",
       "      <td>4.634409</td>\n",
       "      <td>558</td>\n",
       "    </tr>\n",
       "    <tr>\n",
       "      <th>B0000536P4</th>\n",
       "      <td>3.970588</td>\n",
       "      <td>442</td>\n",
       "    </tr>\n",
       "    <tr>\n",
       "      <th>B00005A9WP</th>\n",
       "      <td>3.879070</td>\n",
       "      <td>430</td>\n",
       "    </tr>\n",
       "    <tr>\n",
       "      <th>B000052YM7</th>\n",
       "      <td>4.196602</td>\n",
       "      <td>412</td>\n",
       "    </tr>\n",
       "    <tr>\n",
       "      <th>B000050B6U</th>\n",
       "      <td>4.175066</td>\n",
       "      <td>377</td>\n",
       "    </tr>\n",
       "    <tr>\n",
       "      <th>B00005CDSP</th>\n",
       "      <td>3.167155</td>\n",
       "      <td>341</td>\n",
       "    </tr>\n",
       "  </tbody>\n",
       "</table>\n",
       "</div>"
      ],
      "text/plain": [
       "                mean  count\n",
       "ProductId                  \n",
       "B00006IV2F  4.343750    704\n",
       "B0000632EN  3.978134    686\n",
       "B00005O0MZ  4.082051    585\n",
       "B0000530ED  3.522260    584\n",
       "B00004TUBL  4.634409    558\n",
       "B0000536P4  3.970588    442\n",
       "B00005A9WP  3.879070    430\n",
       "B000052YM7  4.196602    412\n",
       "B000050B6U  4.175066    377\n",
       "B00005CDSP  3.167155    341"
      ]
     },
     "execution_count": 12,
     "metadata": {},
     "output_type": "execute_result"
    }
   ],
   "source": [
    "ratings = df.groupby('ProductId')['Rating'].agg(['mean','count']).sort_values(by='count',ascending=False)\n",
    "ratings.head(10)"
   ]
  },
  {
   "cell_type": "code",
   "execution_count": 13,
   "id": "7945cb66-38df-4d15-8393-df5098b6150a",
   "metadata": {
    "id": "7945cb66-38df-4d15-8393-df5098b6150a"
   },
   "outputs": [
    {
     "data": {
      "image/png": "[encoded data removed]",
      "text/plain": [
       "<Figure size 640x480 with 1 Axes>"
      ]
     },
     "metadata": {},
     "output_type": "display_data"
    }
   ],
   "source": [
    "ratings['mean'].hist(bins = 20)\n",
    "plt.show()"
   ]
  },
  {
   "cell_type": "code",
   "execution_count": 14,
   "id": "gmbV3tFL--Aw",
   "metadata": {
    "id": "gmbV3tFL--Aw"
   },
   "outputs": [
    {
     "data": {
      "text/plain": [
       "UserId                 27927\n",
       "ProductId               1829\n",
       "Rating                     5\n",
       "Timestamp               3772\n",
       "product_description    28125\n",
       "dtype: int64"
      ]
     },
     "execution_count": 14,
     "metadata": {},
     "output_type": "execute_result"
    }
   ],
   "source": [
    "df.nunique()"
   ]
  },
  {
   "cell_type": "code",
   "execution_count": 15,
   "id": "162b05c5-6a11-4c66-8e61-18a973b72aa0",
   "metadata": {
    "id": "162b05c5-6a11-4c66-8e61-18a973b72aa0"
   },
   "outputs": [
    {
     "data": {
      "text/html": [
       "<div>\n",
       "<style scoped>\n",
       "    .dataframe tbody tr th:only-of-type {\n",
       "        vertical-align: middle;\n",
       "    }\n",
       "\n",
       "    .dataframe tbody tr th {\n",
       "        vertical-align: top;\n",
       "    }\n",
       "\n",
       "    .dataframe thead th {\n",
       "        text-align: right;\n",
       "    }\n",
       "</style>\n",
       "<table border=\"1\" class=\"dataframe\">\n",
       "  <thead>\n",
       "    <tr style=\"text-align: right;\">\n",
       "      <th>ProductId</th>\n",
       "      <th>1304139212</th>\n",
       "      <th>1304139220</th>\n",
       "      <th>130414089X</th>\n",
       "      <th>130414643X</th>\n",
       "      <th>1304146537</th>\n",
       "      <th>130414674X</th>\n",
       "      <th>1304168522</th>\n",
       "      <th>1304174778</th>\n",
       "      <th>1304174867</th>\n",
       "      <th>1304174905</th>\n",
       "      <th>...</th>\n",
       "      <th>B000078CXL</th>\n",
       "      <th>B000078CXM</th>\n",
       "      <th>B000078CXN</th>\n",
       "      <th>B000078CXO</th>\n",
       "      <th>B000078PN3</th>\n",
       "      <th>B000079XVD</th>\n",
       "      <th>B00007BGDU</th>\n",
       "      <th>B00007D07S</th>\n",
       "      <th>B00007D07T</th>\n",
       "      <th>B00007D07U</th>\n",
       "    </tr>\n",
       "    <tr>\n",
       "      <th>UserId</th>\n",
       "      <th></th>\n",
       "      <th></th>\n",
       "      <th></th>\n",
       "      <th></th>\n",
       "      <th></th>\n",
       "      <th></th>\n",
       "      <th></th>\n",
       "      <th></th>\n",
       "      <th></th>\n",
       "      <th></th>\n",
       "      <th></th>\n",
       "      <th></th>\n",
       "      <th></th>\n",
       "      <th></th>\n",
       "      <th></th>\n",
       "      <th></th>\n",
       "      <th></th>\n",
       "      <th></th>\n",
       "      <th></th>\n",
       "      <th></th>\n",
       "      <th></th>\n",
       "    </tr>\n",
       "  </thead>\n",
       "  <tbody>\n",
       "    <tr>\n",
       "      <th>A00205921JHJK5X9LNP42</th>\n",
       "      <td>0.0</td>\n",
       "      <td>0.0</td>\n",
       "      <td>0.0</td>\n",
       "      <td>0.0</td>\n",
       "      <td>0.0</td>\n",
       "      <td>0.0</td>\n",
       "      <td>0.0</td>\n",
       "      <td>0.0</td>\n",
       "      <td>0.0</td>\n",
       "      <td>0.0</td>\n",
       "      <td>...</td>\n",
       "      <td>0.0</td>\n",
       "      <td>0.0</td>\n",
       "      <td>0.0</td>\n",
       "      <td>0.0</td>\n",
       "      <td>0.0</td>\n",
       "      <td>0.0</td>\n",
       "      <td>0.0</td>\n",
       "      <td>0.0</td>\n",
       "      <td>0.0</td>\n",
       "      <td>0.0</td>\n",
       "    </tr>\n",
       "    <tr>\n",
       "      <th>A00473363TJ8YSZ3YAGG9</th>\n",
       "      <td>0.0</td>\n",
       "      <td>0.0</td>\n",
       "      <td>0.0</td>\n",
       "      <td>0.0</td>\n",
       "      <td>0.0</td>\n",
       "      <td>0.0</td>\n",
       "      <td>0.0</td>\n",
       "      <td>0.0</td>\n",
       "      <td>0.0</td>\n",
       "      <td>0.0</td>\n",
       "      <td>...</td>\n",
       "      <td>0.0</td>\n",
       "      <td>0.0</td>\n",
       "      <td>0.0</td>\n",
       "      <td>0.0</td>\n",
       "      <td>0.0</td>\n",
       "      <td>0.0</td>\n",
       "      <td>0.0</td>\n",
       "      <td>0.0</td>\n",
       "      <td>0.0</td>\n",
       "      <td>0.0</td>\n",
       "    </tr>\n",
       "    <tr>\n",
       "      <th>A01437583CZ7V02UKZQ5S</th>\n",
       "      <td>0.0</td>\n",
       "      <td>0.0</td>\n",
       "      <td>0.0</td>\n",
       "      <td>0.0</td>\n",
       "      <td>0.0</td>\n",
       "      <td>0.0</td>\n",
       "      <td>0.0</td>\n",
       "      <td>0.0</td>\n",
       "      <td>0.0</td>\n",
       "      <td>0.0</td>\n",
       "      <td>...</td>\n",
       "      <td>0.0</td>\n",
       "      <td>0.0</td>\n",
       "      <td>0.0</td>\n",
       "      <td>0.0</td>\n",
       "      <td>0.0</td>\n",
       "      <td>0.0</td>\n",
       "      <td>0.0</td>\n",
       "      <td>0.0</td>\n",
       "      <td>0.0</td>\n",
       "      <td>0.0</td>\n",
       "    </tr>\n",
       "    <tr>\n",
       "      <th>A01907982I6OHXDYN5HD6</th>\n",
       "      <td>0.0</td>\n",
       "      <td>0.0</td>\n",
       "      <td>0.0</td>\n",
       "      <td>0.0</td>\n",
       "      <td>0.0</td>\n",
       "      <td>0.0</td>\n",
       "      <td>0.0</td>\n",
       "      <td>0.0</td>\n",
       "      <td>0.0</td>\n",
       "      <td>0.0</td>\n",
       "      <td>...</td>\n",
       "      <td>0.0</td>\n",
       "      <td>0.0</td>\n",
       "      <td>0.0</td>\n",
       "      <td>0.0</td>\n",
       "      <td>0.0</td>\n",
       "      <td>0.0</td>\n",
       "      <td>0.0</td>\n",
       "      <td>0.0</td>\n",
       "      <td>0.0</td>\n",
       "      <td>0.0</td>\n",
       "    </tr>\n",
       "    <tr>\n",
       "      <th>A020135981U0UNEAE4JV</th>\n",
       "      <td>0.0</td>\n",
       "      <td>0.0</td>\n",
       "      <td>0.0</td>\n",
       "      <td>0.0</td>\n",
       "      <td>0.0</td>\n",
       "      <td>0.0</td>\n",
       "      <td>0.0</td>\n",
       "      <td>0.0</td>\n",
       "      <td>0.0</td>\n",
       "      <td>0.0</td>\n",
       "      <td>...</td>\n",
       "      <td>0.0</td>\n",
       "      <td>0.0</td>\n",
       "      <td>0.0</td>\n",
       "      <td>0.0</td>\n",
       "      <td>0.0</td>\n",
       "      <td>0.0</td>\n",
       "      <td>0.0</td>\n",
       "      <td>0.0</td>\n",
       "      <td>0.0</td>\n",
       "      <td>0.0</td>\n",
       "    </tr>\n",
       "  </tbody>\n",
       "</table>\n",
       "<p>5 rows × 1829 columns</p>\n",
       "</div>"
      ],
      "text/plain": [
       "ProductId              1304139212  1304139220  130414089X  130414643X  \\\n",
       "UserId                                                                  \n",
       "A00205921JHJK5X9LNP42         0.0         0.0         0.0         0.0   \n",
       "A00473363TJ8YSZ3YAGG9         0.0         0.0         0.0         0.0   \n",
       "A01437583CZ7V02UKZQ5S         0.0         0.0         0.0         0.0   \n",
       "A01907982I6OHXDYN5HD6         0.0         0.0         0.0         0.0   \n",
       "A020135981U0UNEAE4JV          0.0         0.0         0.0         0.0   \n",
       "\n",
       "ProductId              1304146537  130414674X  1304168522  1304174778  \\\n",
       "UserId                                                                  \n",
       "A00205921JHJK5X9LNP42         0.0         0.0         0.0         0.0   \n",
       "A00473363TJ8YSZ3YAGG9         0.0         0.0         0.0         0.0   \n",
       "A01437583CZ7V02UKZQ5S         0.0         0.0         0.0         0.0   \n",
       "A01907982I6OHXDYN5HD6         0.0         0.0         0.0         0.0   \n",
       "A020135981U0UNEAE4JV          0.0         0.0         0.0         0.0   \n",
       "\n",
       "ProductId              1304174867  1304174905  ...  B000078CXL  B000078CXM  \\\n",
       "UserId                                         ...                           \n",
       "A00205921JHJK5X9LNP42         0.0         0.0  ...         0.0         0.0   \n",
       "A00473363TJ8YSZ3YAGG9         0.0         0.0  ...         0.0         0.0   \n",
       "A01437583CZ7V02UKZQ5S         0.0         0.0  ...         0.0         0.0   \n",
       "A01907982I6OHXDYN5HD6         0.0         0.0  ...         0.0         0.0   \n",
       "A020135981U0UNEAE4JV          0.0         0.0  ...         0.0         0.0   \n",
       "\n",
       "ProductId              B000078CXN  B000078CXO  B000078PN3  B000079XVD  \\\n",
       "UserId                                                                  \n",
       "A00205921JHJK5X9LNP42         0.0         0.0         0.0         0.0   \n",
       "A00473363TJ8YSZ3YAGG9         0.0         0.0         0.0         0.0   \n",
       "A01437583CZ7V02UKZQ5S         0.0         0.0         0.0         0.0   \n",
       "A01907982I6OHXDYN5HD6         0.0         0.0         0.0         0.0   \n",
       "A020135981U0UNEAE4JV          0.0         0.0         0.0         0.0   \n",
       "\n",
       "ProductId              B00007BGDU  B00007D07S  B00007D07T  B00007D07U  \n",
       "UserId                                                                 \n",
       "A00205921JHJK5X9LNP42         0.0         0.0         0.0         0.0  \n",
       "A00473363TJ8YSZ3YAGG9         0.0         0.0         0.0         0.0  \n",
       "A01437583CZ7V02UKZQ5S         0.0         0.0         0.0         0.0  \n",
       "A01907982I6OHXDYN5HD6         0.0         0.0         0.0         0.0  \n",
       "A020135981U0UNEAE4JV          0.0         0.0         0.0         0.0  \n",
       "\n",
       "[5 rows x 1829 columns]"
      ]
     },
     "execution_count": 15,
     "metadata": {},
     "output_type": "execute_result"
    }
   ],
   "source": [
    "matrix = df.pivot_table(index = 'UserId', columns = 'ProductId', values = 'Rating',fill_value=0)\n",
    "matrix.head()"
   ]
  },
  {
   "cell_type": "code",
   "execution_count": 16,
   "id": "5b0699a8-35c7-4015-8a0b-20eae30c6ddc",
   "metadata": {
    "id": "5b0699a8-35c7-4015-8a0b-20eae30c6ddc"
   },
   "outputs": [],
   "source": [
    "def recommend(ProductID,topn):\n",
    "  product_ratings = matrix[ProductID]\n",
    "  similar_products = matrix.corrwith(product_ratings)\n",
    "  recommended_products = pd.DataFrame(similar_products,columns = ['Correlation'])\n",
    "  recommended_products.dropna(inplace = True)\n",
    "  recommended_productsID = recommended_products.sort_values('Correlation',ascending = False)\n",
    "  return recommended_productsID.iloc[1:topn+1].index.tolist()"
   ]
  },
  {
   "cell_type": "code",
   "execution_count": 17,
   "id": "23949a3c-371c-4391-8073-9504c33401af",
   "metadata": {
    "id": "23949a3c-371c-4391-8073-9504c33401af"
   },
   "outputs": [
    {
     "name": "stdout",
     "output_type": "stream",
     "text": [
      "Product ID 978807328X\n",
      "Recommented Products : ['B000052Y28', '974383785X', 'B000062U5D']\n"
     ]
    }
   ],
   "source": [
    "random_productID = df['ProductId'].sample(n=1).iloc[0]\n",
    "print('Product ID',random_productID)\n",
    "recommended_cf = recommend(random_productID,3)\n",
    "print('Recommented Products :',recommended_cf)"
   ]
  },
  {
   "cell_type": "code",
   "execution_count": null,
   "id": "7a4a235d-0e68-46df-847f-74197fcb92f6",
   "metadata": {
    "id": "7a4a235d-0e68-46df-847f-74197fcb92f6"
   },
   "outputs": [],
   "source": []
  }
 ],
 "metadata": {
  "colab": {
   "provenance": []
  },
  "kernelspec": {
   "display_name": "Python 3 (ipykernel)",
   "language": "python",
   "name": "python3"
  },
  "language_info": {
   "codemirror_mode": {
    "name": "ipython",
    "version": 3
   },
   "file_extension": ".py",
   "mimetype": "text/x-python",
   "name": "python",
   "nbconvert_exporter": "python",
   "pygments_lexer": "ipython3",
   "version": "3.11.7"
  }
 },
 "nbformat": 4,
 "nbformat_minor": 5
}
